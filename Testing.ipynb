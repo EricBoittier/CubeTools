{
 "cells": [
  {
   "cell_type": "code",
   "execution_count": 1,
   "metadata": {},
   "outputs": [
    {
     "data": {
      "application/vnd.jupyter.widget-view+json": {
       "model_id": "f4b0716a7c4c4d29879716c5e4b71c38",
       "version_major": 2,
       "version_minor": 0
      },
      "text/plain": [
       "_ColormakerRegistry()"
      ]
     },
     "metadata": {},
     "output_type": "display_data"
    },
    {
     "name": "stdout",
     "output_type": "stream",
     "text": [
      "[[ 2.49413876e-01  2.60275626e-01  3.76694024e+00  1.48414550e+00\n",
      "   9.38749955e-01  1.70378123e+00 -1.49134667e+00 -2.49258748e+00\n",
      "  -1.24352765e+00 -1.03418144e+00  1.59508338e+00 -3.90032295e+00\n",
      "  -1.63905744e+00]\n",
      " [ 1.69579596e+00  3.63139848e-01  1.68375448e+00  2.28141146e+00\n",
      "   1.19910368e+00  4.38828335e+00  2.90846953e+00  2.03197042e+00\n",
      "  -2.15126574e+00 -1.09506104e+00 -2.83637981e+00 -1.61106618e+00\n",
      "  -4.58371355e+00]\n",
      " [-1.33327152e-05 -9.37190288e-06  3.56178279e-03 -1.20057167e-02\n",
      "   1.79162830e-03 -1.39515116e-02 -3.58250668e-03 -2.71718594e-01\n",
      "  -3.88045163e-03 -1.39416078e-02 -2.46971025e-02  1.22063099e-02\n",
      "   1.15535418e-03]]\n"
     ]
    },
    {
     "name": "stderr",
     "output_type": "stream",
     "text": [
      "C:\\Users\\Eric\\Miniconda3\\lib\\site-packages\\numba\\core\\decorators.py:255: RuntimeWarning: nopython is set for njit and is ignored\n",
      "  warnings.warn('nopython is set for njit and is ignored', RuntimeWarning)\n"
     ]
    },
    {
     "name": "stdout",
     "output_type": "stream",
     "text": [
      "Base Error: Testing RMSE() on my cube, ref. pcube 5.630115239688681\n"
     ]
    }
   ],
   "source": [
    "import numpy as np\n",
    "from numba import jit, njit, prange\n",
    "from Cube import read_charges_refined, read_cube\n",
    "from VDW import *\n",
    "from scipy import optimize\n",
    "import time\n",
    "\n",
    "@njit(cache=True, parallel=True)\n",
    "def in_interaction_belt(positions, _xyz, _vdw):\n",
    "    output = np.zeros((size_x, size_y, size_z))\n",
    "\n",
    "    for i in prange(size_x):\n",
    "        for j in prange(size_y):\n",
    "            for k in prange(size_z):\n",
    "\n",
    "                distances = []\n",
    "                r = _xyz[:, j, i, k]\n",
    "                for n in range(num_atoms):\n",
    "                    rr = distance(r, positions[n])\n",
    "                    distances.append(rr / _vdw[n])\n",
    "\n",
    "                rmin = min(distances)\n",
    "\n",
    "                if not rmin >= 1.2:\n",
    "                    output[i, j, k] = 0  # False\n",
    "                elif not rmin <= 2.20:\n",
    "                    output[i, j, k] = 0  # False\n",
    "                else:\n",
    "                    output[i, j, k] = 1  # True\n",
    "\n",
    "    return output\n",
    "\n",
    "\n",
    "@jit(nopython=True, cache=True)\n",
    "def jit_columbic_np(a, b, c):\n",
    "    b = np.asarray([[b[0]] * 13, [b[1]] * 13, [b[2]] * 13])\n",
    "    difference = a - b\n",
    "    diff_sqr = np.square(difference)\n",
    "    sum_diff = np.sum(diff_sqr, axis=0)  # sum (dif x , dif y, dif z) = (sum)\n",
    "    sqr_sum_diff = np.sqrt(sum_diff)\n",
    "    columbic = c / sqr_sum_diff\n",
    "    columbic = np.sum(columbic)\n",
    "    return columbic\n",
    "\n",
    "\n",
    "@njit(nopython=True, cache=True, parallel=True)\n",
    "def calculate_coulombic_grid(_size_x, _size_y, _size_z, _xyz, _positions_np, _charges_np):\n",
    "    output = np.zeros((_size_x, _size_y, _size_z))\n",
    "    for i in prange(_size_x):\n",
    "        for j in prange(_size_y):\n",
    "            for k in prange(_size_z):\n",
    "                r = _xyz[:, j, i, k]\n",
    "                output[i, j, k] = jit_columbic_np(_positions_np, r, _charges_np)\n",
    "    return output\n",
    "\n",
    "\n",
    "@jit(nopython=True, cache=True)\n",
    "def RMSE_in_kcal(output, ref):\n",
    "    diff = output - ref\n",
    "    rmse = np.sqrt(np.square(diff.flatten()).sum() / (size_x * size_y * size_z))\n",
    "    return rmse * HARTREE_TO_KCAL\n",
    "\n",
    "\n",
    "@jit(nopython=True, cache=True)\n",
    "def distance(output, ref):\n",
    "    diff = output - ref\n",
    "    rmse = np.sqrt(np.square(diff.flatten()).sum())\n",
    "    return rmse\n",
    "\n",
    "\n",
    "@jit(nopython=True, cache=True)\n",
    "def RMSE_in_kcal_in_belt(output, ref, belt):\n",
    "    diff = np.multiply(output, belt) - np.multiply(ref, belt)\n",
    "    rmse = np.sqrt(np.square(diff.flatten()).sum() / belt.sum())\n",
    "    return rmse * HARTREE_TO_KCAL\n",
    "\n",
    "\n",
    "@jit(nopython=True, cache=True)\n",
    "def RMSE(output, ref):\n",
    "    diff = output - ref\n",
    "    rmse = np.sqrt(np.square(diff.flatten()).sum() / (size_x * size_y * size_z))\n",
    "    return rmse * HARTREE_TO_KCAL\n",
    "\n",
    "#  MDCM Charges location\n",
    "charges_path = \"charges/butadiene/13-charges/13_charges_refined.xyz\"\n",
    "pos_charges_np = read_charges_refined(charges_path)\n",
    "\n",
    "pcube = \"cubes/butadiene/scan_extract_1.xyz.chk.fchk.pot.cube\"\n",
    "pcube_data, pcube_meta = read_cube(pcube)\n",
    "pcube_atoms = pcube_meta[\"atoms\"]\n",
    "org = list(pcube_meta[\"org\"])\n",
    "xvec = list(pcube_meta[\"xvec\"])[0]\n",
    "yvec = list(pcube_meta[\"yvec\"])[1]\n",
    "zvec = list(pcube_meta[\"zvec\"])[2]\n",
    "\n",
    "positions_np = pos_charges_np[:, 0:3]\n",
    "positions_np = positions_np.T\n",
    "print(positions_np)\n",
    "charges_np = pos_charges_np[:, -1]\n",
    "\n",
    "size_x = pcube_data.shape[0]\n",
    "size_y = pcube_data.shape[1]\n",
    "size_z = pcube_data.shape[2]\n",
    "\n",
    "x_values = np.arange(org[0], org[0] + xvec * size_x, xvec)\n",
    "y_values = np.arange(org[1], org[1] + yvec * size_y, yvec)\n",
    "z_values = np.arange(org[2], org[2] + zvec * size_z, zvec)\n",
    "\n",
    "xx, yy, zz = np.meshgrid(x_values, y_values, z_values, indexing=\"ij\")\n",
    "xyz = np.array(np.meshgrid(x_values, y_values, z_values, indexing=\"xy\"))\n",
    "\n",
    "XYZ = np.column_stack((xx.ravel(), yy.ravel(), zz.ravel()))\n",
    "XYZ = XYZ.T\n",
    "\n",
    "\n",
    "read_map = [np.fromiter(x[1], dtype=np.float) for x in pcube_atoms]\n",
    "atom_posistions = [x[1:] for x in read_map]\n",
    "atom_posistions = np.array(atom_posistions, dtype=np.float64)\n",
    "num_atoms = len(atom_posistions)\n",
    "atoms = [int(x[0]) for x in read_map]\n",
    "known_VDW = [VDWs[x] for x in atoms]\n",
    "known_VDW = np.array(known_VDW, dtype=np.float64)\n",
    "interaction_belt = in_interaction_belt(atom_posistions, xyz, known_VDW)\n",
    "\n",
    "\n",
    "output = calculate_coulombic_grid(size_x, size_y, size_z, xyz, positions_np, charges_np)\n",
    "base_error = RMSE_in_kcal_in_belt(output, pcube_data, interaction_belt)\n",
    "print(\"Base Error: Testing RMSE() on my cube, ref. pcube\", base_error)\n",
    "\n"
   ]
  },
  {
   "cell_type": "code",
   "execution_count": 2,
   "metadata": {},
   "outputs": [
    {
     "name": "stdout",
     "output_type": "stream",
     "text": [
      "      fun: 0.5393653147703223\n",
      " hess_inv: array([[ 1.00548579e+00,  5.96896146e-03, -1.24046285e-03, ...,\n",
      "         2.86917117e-03,  1.69206761e-03, -1.32761595e-02],\n",
      "       [ 5.96896146e-03,  1.00634060e+00, -1.43757309e-03, ...,\n",
      "         2.46054255e-03,  8.44133973e-04, -1.18750409e-02],\n",
      "       [-1.24046285e-03, -1.43757309e-03,  1.00023041e+00, ...,\n",
      "        -1.02584694e-03, -9.51035393e-04,  4.46758455e-03],\n",
      "       ...,\n",
      "       [ 2.86917117e-03,  2.46054255e-03, -1.02584694e-03, ...,\n",
      "         9.98662217e-01, -3.39392586e-03,  4.08849459e-03],\n",
      "       [ 1.69206761e-03,  8.44133973e-04, -9.51035393e-04, ...,\n",
      "        -3.39392586e-03,  9.94071455e-01,  1.25360351e-02],\n",
      "       [-1.32761595e-02, -1.18750409e-02,  4.46758455e-03, ...,\n",
      "         4.08849459e-03,  1.25360351e-02,  9.89250433e-01]])\n",
      "      jac: array([ 7.01723099e-05,  6.58384413e-05, -2.18623877e-05,  4.62497771e-06,\n",
      "       -1.70709938e-05, -4.60536331e-05, -9.29374620e-05, -6.83159381e-06,\n",
      "        6.01161718e-05,  7.42014199e-05,  1.51087448e-04, -4.05252434e-04,\n",
      "       -7.67796263e-05, -7.29760900e-05,  9.11141187e-05, -1.53162479e-05,\n",
      "       -1.37852713e-04,  6.27069995e-05, -1.50982812e-05, -6.15111142e-05,\n",
      "        9.90920514e-05, -3.09026241e-06,  5.36207184e-05,  4.02466059e-05,\n",
      "        1.41934179e-04,  1.61559701e-04, -1.93599463e-05, -9.33392718e-05,\n",
      "        2.57497281e-06,  1.06976755e-04, -3.06866243e-05, -6.16273582e-05,\n",
      "        1.77595392e-05, -2.76283622e-05,  2.33956575e-05,  5.30562624e-05,\n",
      "       -8.42586160e-06, -4.63850796e-05,  5.57407737e-06])\n",
      "  message: 'Maximum number of iterations has been exceeded.'\n",
      "     nfev: 123\n",
      "      nit: 1\n",
      "     njev: 3\n",
      "   status: 1\n",
      "  success: False\n",
      "        x: array([ 0.60267544,  4.33264115, -0.14129336,  3.61282237,  0.31147504,\n",
      "        0.85299674,  2.60622543, -2.42814035,  0.1494828 , -0.85839441,\n",
      "        1.90305783,  0.06945802,  0.06303142,  1.68092768,  0.10948411,\n",
      "        0.74777798,  4.38904897, -0.40672367, -3.16006594,  4.33175157,\n",
      "       -0.35941473, -3.90201733,  2.44690213,  0.21462539,  1.10589313,\n",
      "       -2.41577388, -0.03042321, -0.02261637, -1.04405627,  0.12539025,\n",
      "        2.96434686, -4.37112332, -0.41999421, -2.98107652,  0.33194957,\n",
      "        0.65649617, -0.47436185, -3.91128245, -0.57034561])\n"
     ]
    }
   ],
   "source": [
    "#  Loading previous weights\n",
    "class out():\n",
    "    def __init__(self):\n",
    "        self.x =  [ 0.60267561,  4.33264136, -0.14129338,  3.61282246,  0.31147515,  0.8529962,  2.60622493, -2.42813974,  0.14948241, -0.85839552,  1.90305647,  0.06945667,  0.06303177,\n",
    "         1.68092857,  0.10948372,  0.74777838,  4.38904829, -0.40672342, -3.16006587,  4.33175131, -0.35941405, -3.90201733,  2.44690258,  0.21462568,  1.10589301, -2.41577576,\n",
    "         -0.03041944, -0.02261647, -1.04405489,  0.12538961, 2.96434675, -4.3711234,  -0.41999465, -2.98107655,  0.33195022,  0.65649628, -0.47436164,  -3.91128222, -0.57034649]\n",
    "        \n",
    "out = out()\n",
    "     \n",
    "\n",
    "def objective(x):\n",
    "    \"\"\"\n",
    "    \n",
    "    \"\"\"\n",
    "    for i in range(len(x)):\n",
    "        positions_np[i%3, i//3] = x[i]\n",
    "        \n",
    "    output = calculate_coulombic_grid(size_x, size_y, size_z, xyz, positions_np, charges_np)\n",
    "    output = RMSE_in_kcal_in_belt(output, pcube_data, interaction_belt)\n",
    "    return output\n",
    "\n",
    "\n",
    "\n",
    "#  Populate guesses\n",
    "c = 0\n",
    "x_guesses = []\n",
    "for y in range(13):\n",
    "    for x in range(3):\n",
    "        x_guesses.append(positions_np[x, y])\n",
    "        c += 1\n",
    "        \n",
    "\n",
    "\n",
    "out = optimize.minimize(objective, [*out.x], args=(), method='BFGS', \n",
    "                        jac=None, tol=None, callback=None, \n",
    "                        options={'gtol': 1e-05, 'norm': np.inf, \n",
    "                                 'eps': 1.4901161193847656e-05, \n",
    "                                 'maxiter': 1, 'disp': False, \n",
    "                                 'return_all': False})\n",
    "\n",
    "\n",
    "print(out)\n"
   ]
  },
  {
   "cell_type": "code",
   "execution_count": 15,
   "metadata": {},
   "outputs": [
    {
     "data": {
      "text/plain": [
       "0.5393653147703223"
      ]
     },
     "execution_count": 15,
     "metadata": {},
     "output_type": "execute_result"
    }
   ],
   "source": [
    "objective(out.x)"
   ]
  },
  {
   "cell_type": "code",
   "execution_count": 16,
   "metadata": {},
   "outputs": [
    {
     "name": "stdout",
     "output_type": "stream",
     "text": [
      "[ 0.60267544  4.33264115 -0.14129336  3.61282237  0.31147504  0.85299674\n",
      "  2.60622543 -2.42814035  0.1494828  -0.85839441  1.90305783  0.06945802\n",
      "  0.06303142  1.68092768  0.10948411  0.74777798  4.38904897 -0.40672367\n",
      " -3.16006594  4.33175157 -0.35941473 -3.90201733  2.44690213  0.21462539\n",
      "  1.10589313 -2.41577388 -0.03042321 -0.02261637 -1.04405627  0.12539025\n",
      "  2.96434686 -4.37112332 -0.41999421 -2.98107652  0.33194957  0.65649617\n",
      " -0.47436185 -3.91128245 -0.57034561]\n"
     ]
    }
   ],
   "source": [
    "print(out.x)"
   ]
  },
  {
   "cell_type": "code",
   "execution_count": null,
   "metadata": {},
   "outputs": [],
   "source": []
  },
  {
   "cell_type": "code",
   "execution_count": 17,
   "metadata": {},
   "outputs": [
    {
     "name": "stdout",
     "output_type": "stream",
     "text": [
      "[[ 0.60267544  3.61282237  2.60622543 -0.85839441  0.06303142  0.74777798\n",
      "  -3.16006594 -3.90201733  1.10589313 -0.02261637  2.96434686 -2.98107652\n",
      "  -0.47436185]\n",
      " [ 4.33264115  0.31147504 -2.42814035  1.90305783  1.68092768  4.38904897\n",
      "   4.33175157  2.44690213 -2.41577388 -1.04405627 -4.37112332  0.33194957\n",
      "  -3.91128245]\n",
      " [-0.14129336  0.85299674  0.1494828   0.06945802  0.10948411 -0.40672367\n",
      "  -0.35941473  0.21462539 -0.03042321  0.12539025 -0.41999421  0.65649617\n",
      "  -0.57034561]]\n"
     ]
    }
   ],
   "source": [
    "print(positions_np)"
   ]
  },
  {
   "cell_type": "code",
   "execution_count": 18,
   "metadata": {},
   "outputs": [
    {
     "name": "stdout",
     "output_type": "stream",
     "text": [
      "[2.09414, 0.0, 0.0, -2.09414, 2.009811, 3.95138, -1.835514, 1.835514, -3.95138, -2.00981] [2.783833, 1.372509, -1.372508, -2.783833, 4.824243, 1.92466, 2.288467, -2.288466, -1.924661, -4.824243] [0.0, 0.0, 0.0, 0.0, 0.0, 0.0, 0.0, 0.0, 0.0, 0.0]\n"
     ]
    },
    {
     "data": {
      "application/vnd.jupyter.widget-view+json": {
       "model_id": "c9143ef200c44d54be8f6ea545d0b5fc",
       "version_major": 2,
       "version_minor": 0
      },
      "text/plain": [
       "Canvas(toolbar=Toolbar(toolitems=[('Home', 'Reset original view', 'home', 'home'), ('Back', 'Back to previous …"
      ]
     },
     "metadata": {},
     "output_type": "display_data"
    }
   ],
   "source": [
    "%matplotlib widget\n",
    "\n",
    "pcube_0 = \"cubes/butadiene/scan_extract_0.xyz.chk.fchk.pot.cube\"\n",
    "pcube_data_0, pcube_meta_0 = read_cube(pcube_0)\n",
    "pcube_atoms_0 = pcube_meta_0[\"atoms\"]\n",
    "read_map_0 = [np.fromiter(x[1], dtype=np.float) for x in pcube_atoms_0]\n",
    "atom_posistions_0 = [x[1:] for x in read_map_0]\n",
    "atom_posistions_0 = np.array(atom_posistions_0, dtype=np.float64)\n",
    "\n",
    "atom_x = []\n",
    "atom_y = []\n",
    "atom_z = []\n",
    "for x in atom_posistions_0:\n",
    "    atom_x.append(x[0])\n",
    "    atom_y.append(x[1])\n",
    "    atom_z.append(x[2])\n",
    "\n",
    "print(atom_x, atom_y, atom_z)\n",
    "import matplotlib.pyplot as plt\n",
    "fig = plt.figure()\n",
    "ax = plt.axes(projection='3d')\n",
    "data = positions_np\n",
    "ax.scatter3D(data[0], data[1], data[2], c=charges_np, cmap='bwr')\n",
    "ax.scatter3D(atom_x, atom_y, atom_z, c='k', s=50)\n",
    "for i in range(len(atoms)):\n",
    "    ax.text(atom_x[i], atom_y[i], atom_z[i],  \"{}\".format(atoms[i]), color='g')\n",
    "    \n"
   ]
  },
  {
   "cell_type": "code",
   "execution_count": 165,
   "metadata": {},
   "outputs": [
    {
     "data": {
      "application/vnd.jupyter.widget-view+json": {
       "model_id": "d22199039f0a43348b301661920bce76",
       "version_major": 2,
       "version_minor": 0
      },
      "text/plain": [
       "Canvas(toolbar=Toolbar(toolitems=[('Home', 'Reset original view', 'home', 'home'), ('Back', 'Back to previous …"
      ]
     },
     "metadata": {},
     "output_type": "display_data"
    }
   ],
   "source": [
    "fig = plt.figure()\n",
    "ax = plt.axes(projection='3d')\n",
    "\n",
    "new_positions = np.zeros((3, 13))\n",
    "for i in range(len(out.x)):\n",
    "    new_positions[i%3, i//3] = out.x[i]\n",
    "\n",
    "data = new_positions\n",
    "ax.scatter3D(data[0], data[1], data[2], c=charges_np, cmap='bwr')\n",
    "ax.scatter3D(atom_x, atom_y, atom_z, c='k', s=50)\n",
    "for i in range(len(atoms)):\n",
    "    ax.text(atom_x[i], atom_y[i], atom_z[i],  \"{}\".format(atoms[i]), color='g')"
   ]
  },
  {
   "cell_type": "code",
   "execution_count": 140,
   "metadata": {},
   "outputs": [
    {
     "name": "stdout",
     "output_type": "stream",
     "text": [
      "[-1.128271, -1.128271, 1.128271, 1.128271, -2.862596, 0.613571, -2.91779, 2.91779, -0.613571, 2.862596] [3.233034, 0.795121, -0.795121, -3.233034, 4.305751, 4.22505, -0.148706, 0.148706, -4.22505, -4.305751] [-0.289852, 0.357642, 0.357642, -0.289852, -0.402338, -0.702448, 0.698045, 0.698045, -0.702448, -0.402338]\n"
     ]
    }
   ],
   "source": [
    "print(atom_x, atom_y, atom_z)"
   ]
  },
  {
   "cell_type": "code",
   "execution_count": null,
   "metadata": {},
   "outputs": [],
   "source": []
  },
  {
   "cell_type": "code",
   "execution_count": 147,
   "metadata": {},
   "outputs": [
    {
     "data": {
      "text/plain": [
       "array([ 0.60267561,  4.33264136, -0.14129338,  3.61282246,  0.31147515,\n",
       "        0.8529962 ,  2.60622493, -2.42813974,  0.14948241, -0.85839552,\n",
       "        1.90305647,  0.06945667,  0.06303177,  1.68092857,  0.10948372,\n",
       "        0.74777838,  4.38904829, -0.40672342, -3.16006587,  4.33175131,\n",
       "       -0.35941405, -3.90201733,  2.44690258,  0.21462568,  1.10589301,\n",
       "       -2.41577576, -0.03041944, -0.02261647, -1.04405489,  0.12538961,\n",
       "        2.96434675, -4.3711234 , -0.41999465, -2.98107655,  0.33195022,\n",
       "        0.65649628, -0.47436164, -3.91128222, -0.57034649])"
      ]
     },
     "execution_count": 147,
     "metadata": {},
     "output_type": "execute_result"
    }
   ],
   "source": [
    "out.x"
   ]
  },
  {
   "cell_type": "code",
   "execution_count": 148,
   "metadata": {},
   "outputs": [
    {
     "data": {
      "text/plain": [
       "array([[ 2.49413876e-01,  2.60275626e-01,  3.76694024e+00,\n",
       "         1.48414550e+00,  9.38749955e-01,  1.70378123e+00,\n",
       "        -1.49134667e+00, -2.49258748e+00, -1.24352765e+00,\n",
       "        -1.03418144e+00,  1.59508338e+00, -3.90032295e+00,\n",
       "        -1.63905744e+00],\n",
       "       [ 1.69579596e+00,  3.63139848e-01,  1.68375448e+00,\n",
       "         2.28141146e+00,  1.19910368e+00,  4.38828335e+00,\n",
       "         2.90846953e+00,  2.03197042e+00, -2.15126574e+00,\n",
       "        -1.09506104e+00, -2.83637981e+00, -1.61106618e+00,\n",
       "        -4.58371355e+00],\n",
       "       [-1.33327152e-05, -9.37190288e-06,  3.56178279e-03,\n",
       "        -1.20057167e-02,  1.79162830e-03, -1.39515116e-02,\n",
       "        -3.58250668e-03, -2.71718594e-01, -3.88045163e-03,\n",
       "        -1.39416078e-02, -2.46971025e-02,  1.22063099e-02,\n",
       "         1.15535418e-03]])"
      ]
     },
     "execution_count": 148,
     "metadata": {},
     "output_type": "execute_result"
    }
   ],
   "source": [
    "data"
   ]
  },
  {
   "cell_type": "code",
   "execution_count": null,
   "metadata": {},
   "outputs": [],
   "source": []
  },
  {
   "cell_type": "code",
   "execution_count": null,
   "metadata": {},
   "outputs": [],
   "source": []
  },
  {
   "cell_type": "code",
   "execution_count": null,
   "metadata": {},
   "outputs": [],
   "source": []
  }
 ],
 "metadata": {
  "kernelspec": {
   "display_name": "Python 3",
   "language": "python",
   "name": "python3"
  },
  "language_info": {
   "codemirror_mode": {
    "name": "ipython",
    "version": 3
   },
   "file_extension": ".py",
   "mimetype": "text/x-python",
   "name": "python",
   "nbconvert_exporter": "python",
   "pygments_lexer": "ipython3",
   "version": "3.7.3"
  }
 },
 "nbformat": 4,
 "nbformat_minor": 4
}
