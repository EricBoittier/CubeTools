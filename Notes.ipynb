{
 "cells": [
  {
   "cell_type": "markdown",
   "id": "ebd785f4-819d-41a8-aecd-900f9d23a122",
   "metadata": {},
   "source": [
    "#  Water\n",
    "\n",
    "date: 17_08_2021\n",
    "\n",
    "To test the water model, we start from 5_5_4\n",
    "\n"
   ]
  },
  {
   "cell_type": "code",
   "execution_count": null,
   "id": "83d9cc44-af53-4e1f-af3b-73229c320369",
   "metadata": {},
   "outputs": [],
   "source": []
  },
  {
   "cell_type": "code",
   "execution_count": null,
   "id": "1922b3b9-bd50-428c-a40f-433609f3d91f",
   "metadata": {},
   "outputs": [],
   "source": []
  }
 ],
 "metadata": {
  "kernelspec": {
   "display_name": "my-rdkit-env",
   "language": "python",
   "name": "my-rdkit-env"
  },
  "language_info": {
   "codemirror_mode": {
    "name": "ipython",
    "version": 3
   },
   "file_extension": ".py",
   "mimetype": "text/x-python",
   "name": "python",
   "nbconvert_exporter": "python",
   "pygments_lexer": "ipython3",
   "version": "3.6.10"
  }
 },
 "nbformat": 4,
 "nbformat_minor": 5
}
